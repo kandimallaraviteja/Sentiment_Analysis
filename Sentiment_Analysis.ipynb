{
 "cells": [
  {
   "cell_type": "code",
   "execution_count": 1,
   "id": "d526ba80-63fd-4906-bff5-be0be680988f",
   "metadata": {},
   "outputs": [],
   "source": [
    "import pandas as pd\n",
    "import numpy as np\n",
    "import sys"
   ]
  },
  {
   "cell_type": "code",
   "execution_count": 2,
   "id": "a3017e79-5c18-4d6c-a4af-3c9e8ee6a3c7",
   "metadata": {},
   "outputs": [],
   "source": [
    "from sklearn.preprocessing import OrdinalEncoder\n",
    "from sklearn.compose import ColumnTransformer\n",
    "from sklearn.feature_extraction.text import TfidfVectorizer, CountVectorizer\n",
    "from sklearn.naive_bayes import GaussianNB, MultinomialNB\n",
    "from sklearn.metrics import classification_report, confusion_matrix, accuracy_score\n",
    "from sklearn.pipeline import Pipeline\n",
    "from sklearn.model_selection import train_test_split\n",
    "import matplotlib.pyplot as plt\n",
    "import seaborn as sn\n",
    "from sklearn.metrics import confusion_matrix\n",
    "from sklearn.linear_model import LogisticRegression\n",
    "from sklearn import svm\n",
    "from sklearn.tree import DecisionTreeClassifier\n",
    "from sklearn.ensemble import BaggingClassifier, RandomForestClassifier\n",
    "from sklearn.neighbors import KNeighborsClassifier\n",
    "import seaborn as sns\n",
    "import matplotlib.pyplot as plt\n",
    "plt.style.use('seaborn')"
   ]
  },
  {
   "cell_type": "code",
   "execution_count": 3,
   "id": "62265b23-870f-42af-bf82-309ee30d48c8",
   "metadata": {},
   "outputs": [],
   "source": [
    "data = pd.read_csv('/home/msc2/Desktop/MDSC-301/phones.csv')"
   ]
  },
  {
   "cell_type": "code",
   "execution_count": 5,
   "id": "93186ec7-8a34-4aa0-9d22-573f95d03187",
   "metadata": {},
   "outputs": [],
   "source": [
    "data = pd.concat([data], ignore_index = True)"
   ]
  },
  {
   "cell_type": "code",
   "execution_count": 6,
   "id": "97202b8f-4152-4719-b0d5-7117fbc54f8c",
   "metadata": {},
   "outputs": [
    {
     "data": {
      "text/plain": [
       "4.0 out of 5 stars    476\n",
       "5.0 out of 5 stars    275\n",
       "3.0 out of 5 stars    209\n",
       "2.0 out of 5 stars     52\n",
       "1.0 out of 5 stars     49\n",
       "Name: rating, dtype: int64"
      ]
     },
     "execution_count": 6,
     "metadata": {},
     "output_type": "execute_result"
    }
   ],
   "source": [
    "data['rating'].value_counts()"
   ]
  },
  {
   "cell_type": "code",
   "execution_count": 7,
   "id": "cb11c48c-017c-4489-8ba4-97d897f87e0c",
   "metadata": {},
   "outputs": [
    {
     "data": {
      "text/plain": [
       "29"
      ]
     },
     "execution_count": 7,
     "metadata": {},
     "output_type": "execute_result"
    }
   ],
   "source": [
    "data.duplicated().sum()"
   ]
  },
  {
   "cell_type": "code",
   "execution_count": 8,
   "id": "e697c114-e447-45ce-a878-4007cfd8ccce",
   "metadata": {},
   "outputs": [],
   "source": [
    "data = data.drop_duplicates()"
   ]
  },
  {
   "cell_type": "code",
   "execution_count": 9,
   "id": "9cdf51d0-38c5-4721-a3a5-0871bde0994d",
   "metadata": {},
   "outputs": [
    {
     "data": {
      "text/plain": [
       "4.0 out of 5 stars    451\n",
       "5.0 out of 5 stars    272\n",
       "3.0 out of 5 stars    208\n",
       "2.0 out of 5 stars     52\n",
       "1.0 out of 5 stars     49\n",
       "Name: rating, dtype: int64"
      ]
     },
     "execution_count": 9,
     "metadata": {},
     "output_type": "execute_result"
    }
   ],
   "source": [
    "data['rating'].value_counts()"
   ]
  },
  {
   "cell_type": "code",
   "execution_count": 10,
   "id": "c295a19a-4a0f-4c27-b970-493e86327471",
   "metadata": {},
   "outputs": [],
   "source": [
    "data['rating'] = data['rating'].apply(lambda x: x.split()[0].split('.')[0])"
   ]
  },
  {
   "cell_type": "code",
   "execution_count": 11,
   "id": "3813254a-1bb4-4245-91b8-31f06ba51035",
   "metadata": {},
   "outputs": [
    {
     "data": {
      "text/plain": [
       "0       4\n",
       "1       4\n",
       "2       4\n",
       "3       4\n",
       "4       4\n",
       "       ..\n",
       "1055    2\n",
       "1056    4\n",
       "1057    5\n",
       "1058    3\n",
       "1060    3\n",
       "Name: rating, Length: 1032, dtype: object"
      ]
     },
     "execution_count": 11,
     "metadata": {},
     "output_type": "execute_result"
    }
   ],
   "source": [
    "data['rating']"
   ]
  },
  {
   "cell_type": "code",
   "execution_count": 12,
   "id": "a423bf5b-23ef-4392-85ce-258b44e5c283",
   "metadata": {},
   "outputs": [],
   "source": [
    "data = data.astype({'rating':'int64'})"
   ]
  },
  {
   "cell_type": "code",
   "execution_count": 13,
   "id": "2927daf3-4031-4842-9b0f-4f21b8698575",
   "metadata": {},
   "outputs": [],
   "source": [
    "ndf = data.copy()"
   ]
  },
  {
   "cell_type": "code",
   "execution_count": 14,
   "id": "729bf3e7-9989-4e04-8d65-7568e1835012",
   "metadata": {},
   "outputs": [
    {
     "name": "stdout",
     "output_type": "stream",
     "text": [
      "<class 'pandas.core.frame.DataFrame'>\n",
      "Int64Index: 1032 entries, 0 to 1060\n",
      "Data columns (total 2 columns):\n",
      " #   Column  Non-Null Count  Dtype \n",
      "---  ------  --------------  ----- \n",
      " 0   review  1032 non-null   object\n",
      " 1   rating  1032 non-null   int64 \n",
      "dtypes: int64(1), object(1)\n",
      "memory usage: 24.2+ KB\n"
     ]
    }
   ],
   "source": [
    "data.info()"
   ]
  },
  {
   "cell_type": "code",
   "execution_count": 15,
   "id": "6e1b337b-0a19-4066-b920-3be4ac8bbf7e",
   "metadata": {},
   "outputs": [
    {
     "data": {
      "text/html": [
       "<div>\n",
       "<style scoped>\n",
       "    .dataframe tbody tr th:only-of-type {\n",
       "        vertical-align: middle;\n",
       "    }\n",
       "\n",
       "    .dataframe tbody tr th {\n",
       "        vertical-align: top;\n",
       "    }\n",
       "\n",
       "    .dataframe thead th {\n",
       "        text-align: right;\n",
       "    }\n",
       "</style>\n",
       "<table border=\"1\" class=\"dataframe\">\n",
       "  <thead>\n",
       "    <tr style=\"text-align: right;\">\n",
       "      <th></th>\n",
       "      <th>review</th>\n",
       "      <th>rating</th>\n",
       "    </tr>\n",
       "  </thead>\n",
       "  <tbody>\n",
       "    <tr>\n",
       "      <th>0</th>\n",
       "      <td>The Mi Dual driver headphones delivers more th...</td>\n",
       "      <td>4</td>\n",
       "    </tr>\n",
       "    <tr>\n",
       "      <th>1</th>\n",
       "      <td>I Brought this earphone 3 days back, After see...</td>\n",
       "      <td>4</td>\n",
       "    </tr>\n",
       "    <tr>\n",
       "      <th>2</th>\n",
       "      <td>All over is good but ear fiiting is not well.</td>\n",
       "      <td>4</td>\n",
       "    </tr>\n",
       "    <tr>\n",
       "      <th>3</th>\n",
       "      <td>100% Value for money product.\\nBASS was awesom...</td>\n",
       "      <td>4</td>\n",
       "    </tr>\n",
       "    <tr>\n",
       "      <th>4</th>\n",
       "      <td>Bass quality is good ... Treble sound is good....</td>\n",
       "      <td>4</td>\n",
       "    </tr>\n",
       "  </tbody>\n",
       "</table>\n",
       "</div>"
      ],
      "text/plain": [
       "                                              review  rating\n",
       "0  The Mi Dual driver headphones delivers more th...       4\n",
       "1  I Brought this earphone 3 days back, After see...       4\n",
       "2      All over is good but ear fiiting is not well.       4\n",
       "3  100% Value for money product.\\nBASS was awesom...       4\n",
       "4  Bass quality is good ... Treble sound is good....       4"
      ]
     },
     "execution_count": 15,
     "metadata": {},
     "output_type": "execute_result"
    }
   ],
   "source": [
    "data.head()"
   ]
  },
  {
   "cell_type": "code",
   "execution_count": 17,
   "id": "f5a8607a-fec4-476a-b781-1cda6ae42521",
   "metadata": {},
   "outputs": [
    {
     "name": "stdout",
     "output_type": "stream",
     "text": [
      "Collecting imbalanced-learn\n",
      "  Downloading imbalanced_learn-0.9.1-py3-none-any.whl (199 kB)\n",
      "\u001b[K     |████████████████████████████████| 199 kB 4.1 MB/s eta 0:00:01\n",
      "\u001b[?25hRequirement already satisfied: joblib>=1.0.0 in /home/msc2/anaconda3/lib/python3.9/site-packages (from imbalanced-learn) (1.1.0)\n",
      "Requirement already satisfied: scipy>=1.3.2 in /home/msc2/anaconda3/lib/python3.9/site-packages (from imbalanced-learn) (1.7.3)\n",
      "Collecting scikit-learn>=1.1.0\n",
      "  Downloading scikit_learn-1.1.2-cp39-cp39-manylinux_2_17_x86_64.manylinux2014_x86_64.whl (30.8 MB)\n",
      "\u001b[K     |████████████████████████████████| 30.8 MB 2.1 MB/s eta 0:00:01\n",
      "\u001b[?25hRequirement already satisfied: threadpoolctl>=2.0.0 in /home/msc2/anaconda3/lib/python3.9/site-packages (from imbalanced-learn) (2.2.0)\n",
      "Requirement already satisfied: numpy>=1.17.3 in /home/msc2/anaconda3/lib/python3.9/site-packages (from imbalanced-learn) (1.22.0)\n",
      "Installing collected packages: scikit-learn, imbalanced-learn\n",
      "  Attempting uninstall: scikit-learn\n",
      "    Found existing installation: scikit-learn 1.0.2\n",
      "    Uninstalling scikit-learn-1.0.2:\n",
      "      Successfully uninstalled scikit-learn-1.0.2\n",
      "Successfully installed imbalanced-learn-0.9.1 scikit-learn-1.1.2\n"
     ]
    }
   ],
   "source": [
    "!pip install imbalanced-learn"
   ]
  },
  {
   "cell_type": "code",
   "execution_count": 24,
   "id": "155860ea-f4d4-489d-9e4f-0a6ddfeed2b4",
   "metadata": {},
   "outputs": [
    {
     "name": "stderr",
     "output_type": "stream",
     "text": [
      "[nltk_data] Downloading package stopwords to /home/msc2/nltk_data...\n",
      "[nltk_data]   Unzipping corpora/stopwords.zip.\n"
     ]
    },
    {
     "data": {
      "text/plain": [
       "True"
      ]
     },
     "execution_count": 24,
     "metadata": {},
     "output_type": "execute_result"
    }
   ],
   "source": [
    "import re\n",
    "import nltk\n",
    "from nltk.corpus import stopwords\n",
    "from nltk.stem import PorterStemmer, LancasterStemmer\n",
    "import string\n",
    "nltk.download('stopwords')"
   ]
  },
  {
   "cell_type": "code",
   "execution_count": 25,
   "id": "bc836d1f-f38f-4d2b-b662-6e85a368bbb7",
   "metadata": {},
   "outputs": [],
   "source": [
    "def clean(text):\n",
    "    text = text.lower()\n",
    "    text = re.sub('\\[.*?\\]', '', text)\n",
    "    text = re.sub('[%s]' % re.escape(string.punctuation), '', text)\n",
    "    text = re.sub('\\w*\\d\\w*', '', text)\n",
    "    text = re.sub('[\"\"''_]', '', text)\n",
    "    text = re.sub('\\n', '', text)\n",
    "    return text\n",
    "\n",
    "def decontract_text(text):\n",
    "    text = re.sub(r\"won\\'t\", \"will not\", text)\n",
    "    text = re.sub(r\"can\\'t\", \"can not\", text)\n",
    "    text = re.sub(r\"won\\’t\", \"will not\", text)\n",
    "    text = re.sub(r\"can\\’t\", \"can not\", text)\n",
    "    text = re.sub(r\"\\'t've\", \" not have\", text)\n",
    "    text = re.sub(r\"\\'d've\", \" would have\", text)\n",
    "    text = re.sub(r\"\\'clock\", \"f the clock\", text)\n",
    "    text = re.sub(r\"\\'cause\", \" because\", text)\n",
    "    text = re.sub(r\"n\\'t\", \" not\", text)\n",
    "    text = re.sub(r\"\\'re\", \" are\", text)\n",
    "    text = re.sub(r\"\\'s\", \" is\", text)\n",
    "    text = re.sub(r\"\\'d\", \" would\", text)\n",
    "    text = re.sub(r\"\\'ll\", \" will\", text)\n",
    "    text = re.sub(r\"\\'t\", \" not\", text)\n",
    "    text = re.sub(r\"\\'ve\", \" have\", text)\n",
    "    text = re.sub(r\"\\'m\", \" am\", text)\n",
    "    text = re.sub(r\"n\\’t\", \" not\", text)\n",
    "    text = re.sub(r\"\\’re\", \" are\", text)\n",
    "    text = re.sub(r\"\\’s\", \" is\", text)\n",
    "    text = re.sub(r\"\\’d\", \" would\", text)\n",
    "    text = re.sub(r\"\\’ll\", \" will\", text)\n",
    "    text = re.sub(r\"\\’t\", \" not\", text)\n",
    "    text = re.sub(r\"\\’ve\", \" have\", text)\n",
    "    text = re.sub(r\"\\’m\", \" am\", text)\n",
    "    return text\n",
    "\n",
    "def final_clean(text):\n",
    "    text = re.sub('[^a-zA-Z]', ' ', text)\n",
    "    stop = set(stopwords.words('english'))\n",
    "    filtered_words = [word for word in text.split() if word not in stop]\n",
    "    ps = LancasterStemmer()\n",
    "    text = [ps.stem(word) for word in filtered_words]\n",
    "    text = ' '.join(text)\n",
    "    return text"
   ]
  },
  {
   "cell_type": "code",
   "execution_count": 26,
   "id": "4e7ce233-460b-4e53-abdf-0788bab54887",
   "metadata": {},
   "outputs": [],
   "source": [
    "data['review'] = data['review'].apply(lambda text: decontract_text(text))\n",
    "data['review'] = data['review'].apply(lambda text: clean(text))\n",
    "data['review'] = data['review'].apply(lambda text: final_clean(text))"
   ]
  },
  {
   "cell_type": "code",
   "execution_count": 27,
   "id": "5ff3a7f0-2ff1-4c51-9dda-42d556824f34",
   "metadata": {},
   "outputs": [
    {
     "data": {
      "text/plain": [
       "0       mi dual driv headphon del expect on aspect bas...\n",
       "1       brought earphon day back see many review got e...\n",
       "2                                       good ear fiit wel\n",
       "3       valu money productbass awesomeno cancel cal bi...\n",
       "4       bass qual good trebl sound good clear crisp so...\n",
       "                              ...                        \n",
       "1055    sound qual good unfortun receiv defect produc ...\n",
       "1056                     wast produc bet go realm earphon\n",
       "1057    best earphon rup sound qual excel bass gre pas...\n",
       "1058                                           nic produc\n",
       "1060    sound qual expect purchas on piston fit trust ...\n",
       "Name: review, Length: 1032, dtype: object"
      ]
     },
     "execution_count": 27,
     "metadata": {},
     "output_type": "execute_result"
    }
   ],
   "source": [
    "data['review']"
   ]
  },
  {
   "cell_type": "code",
   "execution_count": 29,
   "id": "80c76992-5f8b-4cbf-979e-f73f607317ce",
   "metadata": {},
   "outputs": [
    {
     "data": {
      "text/plain": [
       "<1032x2791 sparse matrix of type '<class 'numpy.int64'>'\n",
       "\twith 16418 stored elements in Compressed Sparse Row format>"
      ]
     },
     "execution_count": 29,
     "metadata": {},
     "output_type": "execute_result"
    }
   ],
   "source": [
    "vector = CountVectorizer()\n",
    "X = vector.fit_transform(data[\"review\"])\n",
    "X"
   ]
  },
  {
   "cell_type": "code",
   "execution_count": 30,
   "id": "058db6cf-df4a-4f2e-b6be-662791f58d9a",
   "metadata": {},
   "outputs": [],
   "source": [
    "df = pd.DataFrame(X.toarray(),columns=vec.get_feature_names_out())"
   ]
  },
  {
   "cell_type": "code",
   "execution_count": 31,
   "id": "f45ff122-d10f-432c-be66-580bde52af3e",
   "metadata": {},
   "outputs": [
    {
     "data": {
      "text/plain": [
       "4    451\n",
       "5    272\n",
       "3    208\n",
       "2     52\n",
       "1     49\n",
       "Name: rating, dtype: int64"
      ]
     },
     "execution_count": 31,
     "metadata": {},
     "output_type": "execute_result"
    }
   ],
   "source": [
    "data['rating'].value_counts()"
   ]
  },
  {
   "cell_type": "code",
   "execution_count": 32,
   "id": "9e068b91-4698-4f84-a01b-20677e8ff200",
   "metadata": {},
   "outputs": [],
   "source": [
    "data['sentiment'] = data['rating'].apply(lambda x: 1 if x>3 else 0)"
   ]
  },
  {
   "cell_type": "code",
   "execution_count": 33,
   "id": "d2310ec0-6acc-4cff-8fcf-21e0588872fb",
   "metadata": {},
   "outputs": [
    {
     "data": {
      "text/html": [
       "<div>\n",
       "<style scoped>\n",
       "    .dataframe tbody tr th:only-of-type {\n",
       "        vertical-align: middle;\n",
       "    }\n",
       "\n",
       "    .dataframe tbody tr th {\n",
       "        vertical-align: top;\n",
       "    }\n",
       "\n",
       "    .dataframe thead th {\n",
       "        text-align: right;\n",
       "    }\n",
       "</style>\n",
       "<table border=\"1\" class=\"dataframe\">\n",
       "  <thead>\n",
       "    <tr style=\"text-align: right;\">\n",
       "      <th></th>\n",
       "      <th>review</th>\n",
       "      <th>rating</th>\n",
       "      <th>sentiment</th>\n",
       "    </tr>\n",
       "  </thead>\n",
       "  <tbody>\n",
       "    <tr>\n",
       "      <th>0</th>\n",
       "      <td>mi dual driv headphon del expect on aspect bas...</td>\n",
       "      <td>4</td>\n",
       "      <td>1</td>\n",
       "    </tr>\n",
       "    <tr>\n",
       "      <th>1</th>\n",
       "      <td>brought earphon day back see many review got e...</td>\n",
       "      <td>4</td>\n",
       "      <td>1</td>\n",
       "    </tr>\n",
       "    <tr>\n",
       "      <th>2</th>\n",
       "      <td>good ear fiit wel</td>\n",
       "      <td>4</td>\n",
       "      <td>1</td>\n",
       "    </tr>\n",
       "    <tr>\n",
       "      <th>3</th>\n",
       "      <td>valu money productbass awesomeno cancel cal bi...</td>\n",
       "      <td>4</td>\n",
       "      <td>1</td>\n",
       "    </tr>\n",
       "    <tr>\n",
       "      <th>4</th>\n",
       "      <td>bass qual good trebl sound good clear crisp so...</td>\n",
       "      <td>4</td>\n",
       "      <td>1</td>\n",
       "    </tr>\n",
       "    <tr>\n",
       "      <th>...</th>\n",
       "      <td>...</td>\n",
       "      <td>...</td>\n",
       "      <td>...</td>\n",
       "    </tr>\n",
       "    <tr>\n",
       "      <th>1055</th>\n",
       "      <td>sound qual good unfortun receiv defect produc ...</td>\n",
       "      <td>2</td>\n",
       "      <td>0</td>\n",
       "    </tr>\n",
       "    <tr>\n",
       "      <th>1056</th>\n",
       "      <td>wast produc bet go realm earphon</td>\n",
       "      <td>4</td>\n",
       "      <td>1</td>\n",
       "    </tr>\n",
       "    <tr>\n",
       "      <th>1057</th>\n",
       "      <td>best earphon rup sound qual excel bass gre pas...</td>\n",
       "      <td>5</td>\n",
       "      <td>1</td>\n",
       "    </tr>\n",
       "    <tr>\n",
       "      <th>1058</th>\n",
       "      <td>nic produc</td>\n",
       "      <td>3</td>\n",
       "      <td>0</td>\n",
       "    </tr>\n",
       "    <tr>\n",
       "      <th>1060</th>\n",
       "      <td>sound qual expect purchas on piston fit trust ...</td>\n",
       "      <td>3</td>\n",
       "      <td>0</td>\n",
       "    </tr>\n",
       "  </tbody>\n",
       "</table>\n",
       "<p>1032 rows × 3 columns</p>\n",
       "</div>"
      ],
      "text/plain": [
       "                                                 review  rating  sentiment\n",
       "0     mi dual driv headphon del expect on aspect bas...       4          1\n",
       "1     brought earphon day back see many review got e...       4          1\n",
       "2                                     good ear fiit wel       4          1\n",
       "3     valu money productbass awesomeno cancel cal bi...       4          1\n",
       "4     bass qual good trebl sound good clear crisp so...       4          1\n",
       "...                                                 ...     ...        ...\n",
       "1055  sound qual good unfortun receiv defect produc ...       2          0\n",
       "1056                   wast produc bet go realm earphon       4          1\n",
       "1057  best earphon rup sound qual excel bass gre pas...       5          1\n",
       "1058                                         nic produc       3          0\n",
       "1060  sound qual expect purchas on piston fit trust ...       3          0\n",
       "\n",
       "[1032 rows x 3 columns]"
      ]
     },
     "execution_count": 33,
     "metadata": {},
     "output_type": "execute_result"
    }
   ],
   "source": [
    "data"
   ]
  },
  {
   "cell_type": "code",
   "execution_count": 34,
   "id": "a0fed7ee-74e8-4bd7-9ecb-fcd6f15d5d72",
   "metadata": {},
   "outputs": [
    {
     "data": {
      "text/plain": [
       "1    723\n",
       "0    309\n",
       "Name: sentiment, dtype: int64"
      ]
     },
     "execution_count": 34,
     "metadata": {},
     "output_type": "execute_result"
    }
   ],
   "source": [
    "data['sentiment'].value_counts()"
   ]
  },
  {
   "cell_type": "code",
   "execution_count": 35,
   "id": "cd436691-448e-4604-8799-bebec9b74643",
   "metadata": {},
   "outputs": [
    {
     "name": "stdout",
     "output_type": "stream",
     "text": [
      "1    506\n",
      "0    216\n",
      "Name: sentiment, dtype: int64\n",
      "1    217\n",
      "0     93\n",
      "Name: sentiment, dtype: int64\n"
     ]
    }
   ],
   "source": [
    "y = data['sentiment']\n",
    "Xtrain, Xtest, ytrain, ytest = train_test_split(df,y,test_size=0.3, stratify = y)\n",
    "print(ytrain.value_counts())\n",
    "print(ytest.value_counts())"
   ]
  },
  {
   "cell_type": "code",
   "execution_count": 36,
   "id": "e6453f9e-7285-4730-a8d0-5667f0587156",
   "metadata": {},
   "outputs": [
    {
     "name": "stdout",
     "output_type": "stream",
     "text": [
      "(722, 2791) (310, 2791)\n",
      "(722,) (310,)\n"
     ]
    }
   ],
   "source": [
    "print(Xtrain.shape, Xtest.shape)\n",
    "print(ytrain.shape, ytest.shape)"
   ]
  },
  {
   "cell_type": "code",
   "execution_count": 44,
   "id": "cb86e4b7-6049-4424-8390-37deb417ff3f",
   "metadata": {},
   "outputs": [],
   "source": [
    "def print_acc(Ptrain,Ptest,ytrain,ytest):\n",
    "    print(f'|Accuracy \\n| {classification_report(ytrain, Ptrain)} |')\n",
    "\n",
    "\n",
    "def gen_conf(actual,pred):\n",
    "    classes = [0,1]\n",
    "    cm = confusion_matrix(actual,pred, labels=classes)\n",
    "    sn.heatmap(cm, annot=True)\n",
    "    plt.title(\"Confusion matrix\")\n",
    "    plt.show()"
   ]
  },
  {
   "cell_type": "code",
   "execution_count": 45,
   "id": "d5986967-feb6-4b34-9f78-796b46d6707e",
   "metadata": {},
   "outputs": [
    {
     "name": "stdout",
     "output_type": "stream",
     "text": [
      "|Accuracy \n",
      "|               precision    recall  f1-score   support\n",
      "\n",
      "           0       0.83      0.88      0.85       216\n",
      "           1       0.95      0.92      0.94       506\n",
      "\n",
      "    accuracy                           0.91       722\n",
      "   macro avg       0.89      0.90      0.89       722\n",
      "weighted avg       0.91      0.91      0.91       722\n",
      " |\n"
     ]
    },
    {
     "data": {
      "image/png": "[encoded data removed]",
      "text/plain": [
       "<Figure size 576x396 with 2 Axes>"
      ]
     },
     "metadata": {},
     "output_type": "display_data"
    }
   ],
   "source": [
    "clf = svm.SVC(class_weight = 'balanced')\n",
    "clf.fit(Xtrain, ytrain)\n",
    "trpred = clf.predict(Xtrain)\n",
    "tpred = clf.predict(Xtest)\n",
    "print_acc(trpred, tpred, ytrain, ytest)\n",
    "gen_conf(ytrain, trpred)"
   ]
  },
  {
   "cell_type": "code",
   "execution_count": 47,
   "id": "bf05c64e-4372-4cf4-8ebd-0b0a95b4612e",
   "metadata": {},
   "outputs": [
    {
     "name": "stdout",
     "output_type": "stream",
     "text": [
      "|Accuracy \n",
      "|               precision    recall  f1-score   support\n",
      "\n",
      "           0       1.00      0.11      0.20       216\n",
      "           1       0.72      1.00      0.84       506\n",
      "\n",
      "    accuracy                           0.73       722\n",
      "   macro avg       0.86      0.56      0.52       722\n",
      "weighted avg       0.81      0.73      0.65       722\n",
      " |\n"
     ]
    },
    {
     "data": {
      "image/png": "[encoded data removed]",
      "text/plain": [
       "<Figure size 576x396 with 2 Axes>"
      ]
     },
     "metadata": {},
     "output_type": "display_data"
    }
   ],
   "source": [
    "rfc = RandomForestClassifier(n_jobs = -1, max_depth = 10, n_estimators = 50)\n",
    "rfc.fit(Xtrain, ytrain)\n",
    "trpred = rfc.predict(Xtrain)\n",
    "tpred = rfc.predict(Xtest)\n",
    "print_acc(trpred, tpred, ytrain, ytest)\n",
    "gen_conf(ytrain, trpred)"
   ]
  },
  {
   "cell_type": "code",
   "execution_count": null,
   "id": "35357fa2-9992-4c4d-90ad-5e36b602b6c0",
   "metadata": {},
   "outputs": [],
   "source": []
  },
  {
   "cell_type": "code",
   "execution_count": null,
   "id": "849f7948-a43c-4d3b-929d-b0d36f142a1c",
   "metadata": {},
   "outputs": [],
   "source": []
  }
 ],
 "metadata": {
  "kernelspec": {
   "display_name": "Python 3 (ipykernel)",
   "language": "python",
   "name": "python3"
  },
  "language_info": {
   "codemirror_mode": {
    "name": "ipython",
    "version": 3
   },
   "file_extension": ".py",
   "mimetype": "text/x-python",
   "name": "python",
   "nbconvert_exporter": "python",
   "pygments_lexer": "ipython3",
   "version": "3.9.12"
  }
 },
 "nbformat": 4,
 "nbformat_minor": 5
}
